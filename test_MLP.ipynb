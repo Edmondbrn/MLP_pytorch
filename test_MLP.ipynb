{
 "cells": [
  {
   "cell_type": "markdown",
   "metadata": {},
   "source": [
    "# Importer les bibliothèques nécessaires\n",
    "Importer PyTorch et d'autres bibliothèques nécessaires comme torch, torch.nn, torch.optim, et matplotlib pour la visualisation."
   ]
  },
  {
   "cell_type": "code",
   "execution_count": 1,
   "metadata": {},
   "outputs": [],
   "source": [
    "import torch\n",
    "import torch.nn as nn\n",
    "import torch.optim as optim\n",
    "import matplotlib.pyplot as plt\n",
    "\n",
    "# Vérification de la disponibilité du GPU\n",
    "device = torch.device(\"cuda\" if torch.cuda.is_available() else \"cpu\")"
   ]
  },
  {
   "cell_type": "markdown",
   "metadata": {},
   "source": [
    "# Définir le modèle MLP\n",
    "Créer une classe pour le modèle MLP en héritant de torch.nn.Module et définir les couches dans la méthode __init__ ainsi que la méthode forward."
   ]
  },
  {
   "cell_type": "code",
   "execution_count": 2,
   "metadata": {},
   "outputs": [],
   "source": [
    "# Définir le modèle MLP\n",
    "class MLPModel(nn.Module):\n",
    "    def __init__(self, input_size, hidden_size, output_size):\n",
    "        super(MLPModel, self).__init__()\n",
    "        # Définir les couches du modèle\n",
    "        self.fc1 = nn.Linear(input_size, hidden_size)  # Première couche entièrement connectée\n",
    "        self.relu = nn.ReLU()  # Fonction d'activation ReLU\n",
    "        self.fc2 = nn.Linear(hidden_size, output_size)  # Deuxième couche entièrement connectée\n",
    "\n",
    "    def forward(self, x):\n",
    "        # Définir le passage avant\n",
    "        x = self.fc1(x)\n",
    "        x = self.relu(x)\n",
    "        x = self.fc2(x)\n",
    "        return x\n",
    "\n",
    "# Exemple d'initialisation du modèle (les dimensions doivent être adaptées aux données)\n",
    "# input_size = taille des caractéristiques d'entrée\n",
    "# hidden_size = nombre de neurones dans la couche cachée\n",
    "# output_size = taille de la sortie (par exemple, nombre de classes pour une classification)\n",
    "input_size = 784  # Exemple pour des images 28x28 aplaties\n",
    "hidden_size = 128\n",
    "output_size = 10  # Exemple pour une classification à 10 classes\n",
    "model = MLPModel(input_size, hidden_size, output_size).to(device)"
   ]
  },
  {
   "cell_type": "markdown",
   "metadata": {},
   "source": [
    "# Préparer les données\n",
    "Charger un dataset (par exemple MNIST ou un dataset personnalisé), le normaliser et le diviser en ensembles d'entraînement et de test."
   ]
  },
  {
   "cell_type": "code",
   "execution_count": 4,
   "metadata": {},
   "outputs": [
    {
     "name": "stderr",
     "output_type": "stream",
     "text": [
      "100.0%\n",
      "100.0%\n",
      "100.0%\n",
      "100.0%\n"
     ]
    }
   ],
   "source": [
    "from torchvision import datasets, transforms\n",
    "from torch.utils.data import DataLoader, random_split\n",
    "\n",
    "# Définir les transformations pour normaliser les données\n",
    "transform = transforms.Compose([\n",
    "    transforms.ToTensor(),  # Convertir les images en tenseurs PyTorch\n",
    "    transforms.Normalize((0.5,), (0.5,))  # Normaliser les images (moyenne=0.5, écart-type=0.5)\n",
    "])\n",
    "\n",
    "# Charger le dataset MNIST\n",
    "dataset = datasets.MNIST(root='./data', train=True, download=True, transform=transform)\n",
    "\n",
    "# Diviser le dataset en ensembles d'entraînement et de validation\n",
    "train_size = int(0.8 * len(dataset))  # 80% pour l'entraînement\n",
    "val_size = len(dataset) - train_size  # 20% pour la validation\n",
    "train_dataset, val_dataset = random_split(dataset, [train_size, val_size])\n",
    "\n",
    "# Charger le dataset de test\n",
    "test_dataset = datasets.MNIST(root='./data', train=False, download=True, transform=transform)\n",
    "\n",
    "# Créer des DataLoaders pour itérer sur les données\n",
    "batch_size = 64  # Taille des lots\n",
    "train_loader = DataLoader(train_dataset, batch_size=batch_size, shuffle=True)\n",
    "val_loader = DataLoader(val_dataset, batch_size=batch_size, shuffle=False)\n",
    "test_loader = DataLoader(test_dataset, batch_size=batch_size, shuffle=False)"
   ]
  },
  {
   "cell_type": "markdown",
   "metadata": {},
   "source": [
    "# Configurer l'optimiseur et la fonction de perte\n",
    "Définir une fonction de perte (par exemple torch.nn.CrossEntropyLoss) et un optimiseur (par exemple torch.optim.Adam)."
   ]
  },
  {
   "cell_type": "code",
   "execution_count": 5,
   "metadata": {},
   "outputs": [],
   "source": [
    "# Configurer l'optimiseur et la fonction de perte\n",
    "\n",
    "# Définir la fonction de perte\n",
    "criterion = nn.CrossEntropyLoss()\n",
    "\n",
    "# Définir l'optimiseur\n",
    "optimizer = optim.Adam(model.parameters(), lr=0.001)  # Taux d'apprentissage fixé à 0.001"
   ]
  },
  {
   "cell_type": "markdown",
   "metadata": {},
   "source": [
    "# Entraîner le modèle\n",
    "Écrire une boucle d'entraînement pour plusieurs époques, calculer la perte, effectuer la rétropropagation et mettre à jour les poids."
   ]
  },
  {
   "cell_type": "code",
   "execution_count": 6,
   "metadata": {},
   "outputs": [
    {
     "name": "stdout",
     "output_type": "stream",
     "text": [
      "Époque 1/10, Perte: 0.4174\n",
      "Époque 2/10, Perte: 0.2306\n",
      "Époque 3/10, Perte: 0.1650\n",
      "Époque 4/10, Perte: 0.1325\n",
      "Époque 5/10, Perte: 0.1113\n",
      "Époque 6/10, Perte: 0.0954\n",
      "Époque 7/10, Perte: 0.0839\n",
      "Époque 8/10, Perte: 0.0768\n",
      "Époque 9/10, Perte: 0.0682\n",
      "Époque 10/10, Perte: 0.0631\n"
     ]
    }
   ],
   "source": [
    "# Entraîner le modèle\n",
    "num_epochs = 10  # Nombre d'époques\n",
    "\n",
    "# Boucle d'entraînement\n",
    "for epoch in range(num_epochs):\n",
    "    model.train()  # Mettre le modèle en mode entraînement\n",
    "    running_loss = 0.0  # Initialiser la perte cumulée\n",
    "\n",
    "    for inputs, labels in train_loader:\n",
    "        # Déplacer les données sur le GPU si disponible\n",
    "        inputs, labels = inputs.view(inputs.size(0), -1).to(device), labels.to(device)\n",
    "\n",
    "        # Réinitialiser les gradients\n",
    "        optimizer.zero_grad()\n",
    "\n",
    "        # Passage avant\n",
    "        outputs = model(inputs)\n",
    "\n",
    "        # Calcul de la perte\n",
    "        loss = criterion(outputs, labels)\n",
    "\n",
    "        # Rétropropagation\n",
    "        loss.backward()\n",
    "\n",
    "        # Mise à jour des poids\n",
    "        optimizer.step()\n",
    "\n",
    "        # Accumuler la perte\n",
    "        running_loss += loss.item()\n",
    "\n",
    "    # Afficher la perte moyenne pour l'époque\n",
    "    print(f\"Époque {epoch+1}/{num_epochs}, Perte: {running_loss/len(train_loader):.4f}\")"
   ]
  },
  {
   "cell_type": "markdown",
   "metadata": {},
   "source": [
    "# Évaluer le modèle\n",
    "Évaluer les performances du modèle sur l'ensemble de test et afficher des métriques comme la précision ou la perte."
   ]
  },
  {
   "cell_type": "code",
   "execution_count": 7,
   "metadata": {},
   "outputs": [
    {
     "name": "stdout",
     "output_type": "stream",
     "text": [
      "Perte moyenne sur l'ensemble de test: 0.1017\n",
      "Précision sur l'ensemble de test: 97.10%\n"
     ]
    }
   ],
   "source": [
    "# Évaluer le modèle\n",
    "model.eval()  # Mettre le modèle en mode évaluation\n",
    "test_loss = 0.0\n",
    "correct = 0\n",
    "total = 0\n",
    "\n",
    "with torch.no_grad():  # Désactiver la calcul des gradients pour l'évaluation\n",
    "    for inputs, labels in test_loader:\n",
    "        # Déplacer les données sur le GPU si disponible\n",
    "        inputs, labels = inputs.view(inputs.size(0), -1).to(device), labels.to(device)\n",
    "\n",
    "        # Passage avant\n",
    "        outputs = model(inputs)\n",
    "\n",
    "        # Calcul de la perte\n",
    "        loss = criterion(outputs, labels)\n",
    "        test_loss += loss.item()\n",
    "\n",
    "        # Prédictions\n",
    "        _, predicted = torch.max(outputs, 1)\n",
    "        total += labels.size(0)\n",
    "        correct += (predicted == labels).sum().item()\n",
    "\n",
    "# Calculer la perte moyenne et la précision\n",
    "average_loss = test_loss / len(test_loader)\n",
    "accuracy = 100 * correct / total\n",
    "\n",
    "# Afficher les résultats\n",
    "print(f\"Perte moyenne sur l'ensemble de test: {average_loss:.4f}\")\n",
    "print(f\"Précision sur l'ensemble de test: {accuracy:.2f}%\")"
   ]
  }
 ],
 "metadata": {
  "kernelspec": {
   "display_name": "Python 3",
   "language": "python",
   "name": "python3"
  },
  "language_info": {
   "codemirror_mode": {
    "name": "ipython",
    "version": 3
   },
   "file_extension": ".py",
   "mimetype": "text/x-python",
   "name": "python",
   "nbconvert_exporter": "python",
   "pygments_lexer": "ipython3",
   "version": "3.10.16"
  }
 },
 "nbformat": 4,
 "nbformat_minor": 2
}
